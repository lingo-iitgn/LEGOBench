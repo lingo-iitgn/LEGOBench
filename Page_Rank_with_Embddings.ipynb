{
 "cells": [
  {
   "cell_type": "code",
   "execution_count": null,
   "metadata": {},
   "outputs": [],
   "source": [
    "from tqdm import tqdm\n",
    "import pandas as pd\n",
    "import pickle"
   ]
  },
  {
   "cell_type": "code",
   "execution_count": 2,
   "metadata": {},
   "outputs": [
    {
     "name": "stdout",
     "output_type": "stream",
     "text": [
      "Ran out of input\n",
      "7744\n"
     ]
    }
   ],
   "source": [
    "\n",
    "graph_dict = {}\n",
    "\n",
    "with open('/home/harsh.d/shruti/ALL_ldb_graph_specter.pkl', 'rb') as f:\n",
    "    while True:\n",
    "        try:\n",
    "            local_graph_dict = pickle.load(f)\n",
    "            graph_dict.update(local_graph_dict)\n",
    "        except Exception as ex:\n",
    "            print(ex)\n",
    "            break\n",
    "print(len(graph_dict))"
   ]
  },
  {
   "cell_type": "code",
   "execution_count": 7,
   "metadata": {},
   "outputs": [],
   "source": [
    "with open('../Benchmark Data/leaderboard_details', 'rb') as config_dictionary_file:\n",
    "    r = pickle.load(config_dictionary_file)  "
   ]
  },
  {
   "cell_type": "code",
   "execution_count": 5,
   "metadata": {},
   "outputs": [],
   "source": [
    "with open('../Benchmark Data/intersection_dataset_benchmark_paperID', 'rb') as config_dictionary_file:\n",
    "   intersection_dataset_benchmark_paperID = pickle.load(config_dictionary_file)  "
   ]
  },
  {
   "cell_type": "code",
   "execution_count": 6,
   "metadata": {},
   "outputs": [],
   "source": [
    "uu = pd.read_pickle('../Benchmark Data/Table_Citations.pkl')"
   ]
  },
  {
   "cell_type": "code",
   "execution_count": 18,
   "metadata": {},
   "outputs": [],
   "source": [
    "def give_stats(list_name):\n",
    "    print(\"Mean : \",statistics.mean(list_name))\n",
    "    print(\"Median : \",statistics.median(list_name))\n",
    "    print(\"Mode : \",statistics.mode(list_name))\n",
    "    print(\"Standerd Deviation : \",statistics.stdev(list_name))\n",
    "    print(\"Maximum Value : \", max(list_name))\n",
    "    print(\"Minimum Value : \",min(list_name))\n",
    "    print(\"Count of 100 : \", list_name.count(100))\n",
    "    print(\"Count of 0 : \", list_name.count(0))\n",
    "    print(\"Total Length : \", len(list_name))"
   ]
  },
  {
   "cell_type": "code",
   "execution_count": 33,
   "metadata": {},
   "outputs": [],
   "source": [
    "from scipy.stats import spearmanr\n",
    "def calculate_spearman_rank_correlation(actual_ranks, page_ranks):\n",
    "    # use the PageRank scores as ranks\n",
    "    ranks = page_ranks\n",
    "    # calculate Spearman's rank correlation coefficient\n",
    "    corr, p_value = spearmanr(actual_ranks, ranks)\n",
    "    return corr, p_value"
   ]
  },
  {
   "cell_type": "code",
   "execution_count": 32,
   "metadata": {},
   "outputs": [
    {
     "name": "stderr",
     "output_type": "stream",
     "text": [
      "100%|███████████████████████████████████████| 7744/7744 [02:27<00:00, 52.45it/s]\n"
     ]
    }
   ],
   "source": [
    "# Initialize variables\n",
    "number_of_corrected_ranks = 0\n",
    "zero_rank_leaderboard = 0\n",
    "not_in_sorted_order = 0\n",
    "number_task = 0\n",
    "r_list = []\n",
    "\n",
    "# Loop through each dataset and task in the graph_dict\n",
    "for dataset in tqdm(graph_dict):\n",
    "    for task in graph_dict[dataset]:\n",
    "        # Get the list of tuples for this dataset and task\n",
    "        my_list_of_tuples = graph_dict[dataset][task]\n",
    "        \n",
    "        # If the list of tuples is not empty\n",
    "        if len(my_list_of_tuples)>0:\n",
    "            # Get the list of arxiv ids for this dataset and task, ignoring certain ids\n",
    "            tt = [x for x in r[dataset][task]['arxiv id'] if x != 0 and not x.startswith(('2205', '2206', '2207', '2208', '2209', '2210', '2211', '2212', '23'))]\n",
    "            \n",
    "            # Combine the arxiv ids from both source and destination nodes in the list of tuples\n",
    "            arxiv_id = []\n",
    "            arxiv_id.extend([x[0] for x in my_list_of_tuples])\n",
    "            arxiv_id.extend([x[1] for x in my_list_of_tuples])\n",
    "            arxiv_id = set(arxiv_id)\n",
    "            \n",
    "            # Calculate the overlap between the arxiv ids in the list of tuples and the arxiv ids in the ground truth\n",
    "            r_list.append(len(arxiv_id.intersection(set(tt)))/len(arxiv_id)*100)        \n",
    "            \n",
    "            # Create a directed graph using networkx library\n",
    "            G = nx.DiGraph()\n",
    "            # Add nodes and edges to the graph\n",
    "            for source, destination, weight in my_list_of_tuples:\n",
    "                G.add_edge(source, destination, weight=weight)\n",
    "            \n",
    "            # Calculate the PageRank score for each node in the graph\n",
    "            pr = nx.pagerank(G, weight='weight')\n",
    "            \n",
    "            # Get the PageRank scores for the arxiv ids in the ground truth and check if they are sorted in descending order\n",
    "            ranks = []\n",
    "            for k in arxiv_id.intersection(set(tt)):\n",
    "                ranks.append(pr[k])\n",
    "            if len(ranks)>0 and ranks == sorted(ranks,reverse=True):\n",
    "                number_of_corrected_ranks+=1\n",
    "            elif len(ranks)==0:\n",
    "                zero_rank_leaderboard+=1\n",
    "            else:\n",
    "                not_in_sorted_order +=1\n",
    "        \n",
    "        # Increment the number of tasks\n",
    "        number_task+=1\n"
   ]
  },
  {
   "cell_type": "code",
   "execution_count": 33,
   "metadata": {},
   "outputs": [
    {
     "name": "stdout",
     "output_type": "stream",
     "text": [
      "number_of_corrected_ranks: 1301\n",
      "zero_rank_leaderboard: 3542\n",
      "not_in_sorted_order: 840\n",
      "number_task: 5827\n"
     ]
    }
   ],
   "source": [
    "print('number_of_corrected_ranks:', number_of_corrected_ranks)\n",
    "print('zero_rank_leaderboard:',zero_rank_leaderboard)\n",
    "print('not_in_sorted_order:', not_in_sorted_order)\n",
    "print('number_task:',number_task)"
   ]
  },
  {
   "cell_type": "code",
   "execution_count": null,
   "metadata": {},
   "outputs": [],
   "source": []
  },
  {
   "cell_type": "code",
   "execution_count": null,
   "metadata": {},
   "outputs": [],
   "source": []
  }
 ],
 "metadata": {
  "kernelspec": {
   "display_name": "Python [conda env:myenv] *",
   "language": "python",
   "name": "conda-env-myenv-py"
  },
  "language_info": {
   "codemirror_mode": {
    "name": "ipython",
    "version": 3
   },
   "file_extension": ".py",
   "mimetype": "text/x-python",
   "name": "python",
   "nbconvert_exporter": "python",
   "pygments_lexer": "ipython3",
   "version": "3.8.5"
  }
 },
 "nbformat": 4,
 "nbformat_minor": 4
}
