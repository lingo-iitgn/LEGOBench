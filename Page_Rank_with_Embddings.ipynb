number_of_corrected_ranks = 0
zero_rank_leaderboard = 0
not_in_sorted_order = 0
number_task = 0
r_list = []
for dataset in tqdm(graph_dict):
    for task in graph_dict[dataset]:
        my_list_of_tuples = graph_dict[dataset][task]
        if len(my_list_of_tuples)>0:
            tt = [x for x in r[dataset][task]['arxiv id'] if x != 0 and not x.startswith(('2205', '2206', '2207', '2208', '2209', '2210', '2211', '2212', '23'))]
            arxiv_id = []
            arxiv_id.extend([x[0] for x in my_list_of_tuples])
            arxiv_id.extend([x[1] for x in my_list_of_tuples])
            arxiv_id = set(arxiv_id)
            r_list.append(len(arxiv_id.intersection(set(tt)))/len(arxiv_id)*100)        
            
            G = nx.DiGraph()
            # Add nodes and edges to the graph
            for source, destination, weight in my_list_of_tuples:
                G.add_edge(source, destination, weight=weight)
            pr = nx.pagerank(G, weight='weight')
            ranks = []
            for k in arxiv_id.intersection(set(tt)):
                ranks.append(pr[k])
            if len(ranks)>0 and ranks == sorted(ranks,reverse=True):
                number_of_corrected_ranks+=1
            elif len(ranks)==0:
                zero_rank_leaderboard+=1
            else:
                not_in_sorted_order +=1
        number_task+=1
